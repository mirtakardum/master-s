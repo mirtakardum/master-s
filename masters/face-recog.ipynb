{
 "cells": [
  {
   "cell_type": "markdown",
   "metadata": {},
   "source": [
    "# Face recognition in Phyton"
   ]
  },
  {
   "cell_type": "markdown",
   "metadata": {},
   "source": [
    "**Finding faces**"
   ]
  },
  {
   "cell_type": "code",
   "execution_count": 1,
   "metadata": {},
   "outputs": [
    {
     "name": "stdout",
     "output_type": "stream",
     "text": [
      "There are 11 people in this image\n"
     ]
    }
   ],
   "source": [
    "import face_recognition\n",
    "\n",
    "image = face_recognition.load_image_file('./img/groups/team2.jpg')\n",
    "face_locations = face_recognition.face_locations(image)\n",
    "\n",
    "print(f'There are {len(face_locations)} people in this image')"
   ]
  },
  {
   "cell_type": "markdown",
   "metadata": {},
   "source": [
    "**Identifying faces**"
   ]
  },
  {
   "cell_type": "code",
   "execution_count": 6,
   "metadata": {},
   "outputs": [
    {
     "name": "stderr",
     "output_type": "stream",
     "text": [
      "c:\\Users\\PC\\Desktop\\diplomski\\masters\\masters-env\\lib\\site-packages\\PIL\\Image.py:1000: UserWarning: Palette images with Transparency expressed in bytes should be converted to RGBA images\n",
      "  warnings.warn(\n"
     ]
    }
   ],
   "source": [
    "import face_recognition\n",
    "from PIL import Image, ImageDraw\n",
    "\n",
    "image_of_bill = face_recognition.load_image_file('./img/known/Bill Gates.jpg')\n",
    "bill_face_encoding = face_recognition.face_encodings(image_of_bill)[0]\n",
    "\n",
    "image_of_steve = face_recognition.load_image_file('./img/known/Steve Jobs.jpg')\n",
    "steve_face_encoding = face_recognition.face_encodings(image_of_steve)[0]\n",
    "\n",
    "image_of_elon = face_recognition.load_image_file('./img/known/Elon Musk.jpg')\n",
    "elon_face_encoding = face_recognition.face_encodings(image_of_elon)[0]"
   ]
  },
  {
   "cell_type": "code",
   "execution_count": 7,
   "metadata": {},
   "outputs": [],
   "source": [
    "known_face_encodings = [\n",
    "  bill_face_encoding,\n",
    "  steve_face_encoding,\n",
    "  elon_face_encoding\n",
    "]\n",
    "\n",
    "known_face_names = [\n",
    "  \"Bill Gates\",\n",
    "  \"Steve Jobs\",\n",
    "  \"Elon Musk\"\n",
    "]\n",
    "\n",
    "# Load test image to find faces in\n",
    "test_image = face_recognition.load_image_file('./img/groups/bill-steve-elon.jpg')\n",
    "\n",
    "# Find faces in test image\n",
    "face_locations = face_recognition.face_locations(test_image)\n",
    "face_encodings = face_recognition.face_encodings(test_image, face_locations)"
   ]
  },
  {
   "cell_type": "code",
   "execution_count": 8,
   "metadata": {},
   "outputs": [],
   "source": [
    "# Convert to PIL format\n",
    "pil_image = Image.fromarray(test_image)\n",
    "\n",
    "# Create a ImageDraw instance\n",
    "draw = ImageDraw.Draw(pil_image)"
   ]
  },
  {
   "cell_type": "code",
   "execution_count": 11,
   "metadata": {},
   "outputs": [
    {
     "ename": "TypeError",
     "evalue": "cannot unpack non-iterable float object",
     "output_type": "error",
     "traceback": [
      "\u001b[1;31m---------------------------------------------------------------------------\u001b[0m",
      "\u001b[1;31mTypeError\u001b[0m                                 Traceback (most recent call last)",
      "Cell \u001b[1;32mIn[11], line 16\u001b[0m\n\u001b[0;32m     13\u001b[0m draw\u001b[38;5;241m.\u001b[39mrectangle(((left, top), (right, bottom)), outline\u001b[38;5;241m=\u001b[39m(\u001b[38;5;241m255\u001b[39m,\u001b[38;5;241m255\u001b[39m,\u001b[38;5;241m0\u001b[39m))\n\u001b[0;32m     15\u001b[0m \u001b[38;5;66;03m# Draw label\u001b[39;00m\n\u001b[1;32m---> 16\u001b[0m text_width, text_height \u001b[38;5;241m=\u001b[39m draw\u001b[38;5;241m.\u001b[39mtextlength(name)\n\u001b[0;32m     17\u001b[0m draw\u001b[38;5;241m.\u001b[39mrectangle(((left,bottom \u001b[38;5;241m-\u001b[39m text_height \u001b[38;5;241m-\u001b[39m \u001b[38;5;241m10\u001b[39m), (right, bottom)), fill\u001b[38;5;241m=\u001b[39m(\u001b[38;5;241m255\u001b[39m,\u001b[38;5;241m255\u001b[39m,\u001b[38;5;241m0\u001b[39m), outline\u001b[38;5;241m=\u001b[39m(\u001b[38;5;241m255\u001b[39m,\u001b[38;5;241m255\u001b[39m,\u001b[38;5;241m0\u001b[39m))\n\u001b[0;32m     18\u001b[0m draw\u001b[38;5;241m.\u001b[39mtext((left \u001b[38;5;241m+\u001b[39m \u001b[38;5;241m6\u001b[39m, bottom \u001b[38;5;241m-\u001b[39m text_height \u001b[38;5;241m-\u001b[39m \u001b[38;5;241m5\u001b[39m), name, fill\u001b[38;5;241m=\u001b[39m(\u001b[38;5;241m0\u001b[39m,\u001b[38;5;241m0\u001b[39m,\u001b[38;5;241m0\u001b[39m))\n",
      "\u001b[1;31mTypeError\u001b[0m: cannot unpack non-iterable float object"
     ]
    }
   ],
   "source": [
    "\n",
    "# Loop through faces in test image\n",
    "for(top, right, bottom, left), face_encoding in zip(face_locations, face_encodings):\n",
    "  matches = face_recognition.compare_faces(known_face_encodings, face_encoding)\n",
    "\n",
    "  name = \"Unknown Person\"\n",
    "\n",
    "  # If match\n",
    "  if True in matches:\n",
    "    first_match_index = matches.index(True)\n",
    "    name = known_face_names[first_match_index] \n",
    "  \n",
    "  # Draw box\n",
    "  draw.rectangle(((left, top), (right, bottom)), outline=(255,255,0))\n",
    "\n",
    "  # Draw label\n",
    "  text_width, text_height = draw.textlength(name)\n",
    "  draw.rectangle(((left,bottom - text_height - 10), (right, bottom)), fill=(255,255,0), outline=(255,255,0))\n",
    "  draw.text((left + 6, bottom - text_height - 5), name, fill=(0,0,0))\n",
    "\n",
    "del draw\n",
    "\n",
    "# Display image\n",
    "pil_image.show()\n",
    "\n",
    "# Save image\n",
    "pil_image.save('identify.jpg')"
   ]
  }
 ],
 "metadata": {
  "kernelspec": {
   "display_name": "Python 3",
   "language": "python",
   "name": "python3"
  },
  "language_info": {
   "codemirror_mode": {
    "name": "ipython",
    "version": 3
   },
   "file_extension": ".py",
   "mimetype": "text/x-python",
   "name": "python",
   "nbconvert_exporter": "python",
   "pygments_lexer": "ipython3",
   "version": "3.10.14"
  }
 },
 "nbformat": 4,
 "nbformat_minor": 2
}
